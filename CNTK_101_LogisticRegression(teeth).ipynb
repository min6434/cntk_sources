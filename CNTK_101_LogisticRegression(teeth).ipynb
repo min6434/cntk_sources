{
 "cells": [
  {
   "cell_type": "code",
   "execution_count": 5,
   "metadata": {
    "collapsed": true
   },
   "outputs": [],
   "source": [
    "from IPython.display import Image"
   ]
  },
  {
   "cell_type": "markdown",
   "metadata": {
    "collapsed": true
   },
   "source": [
    "# CNTK 101: Logistic Regression and ML Primer\n",
    "\n",
    "This tutorial is targeted to individuals who are new to CNTK and to machine learning. In this tutorial, you will train a simple yet powerful machine learning model that is widely used in industry for a variety of applications. The model trained below scales to massive data sets in the most expeditious manner by harnessing computational scalability leveraging the computational resources you may have (one or more CPU cores, one or more GPUs, a cluster of CPUs or a cluster of GPUs), transparently via the CNTK library.\n",
    "\n",
    "The following notebook users Python APIs. If you are looking for this example in BrainScript, please look [here](https://github.com/Microsoft/CNTK/tree/v2.0.beta12.0/Tutorials/HelloWorld-LogisticRegression). \n",
    "\n",
    "## Introduction\n",
    "\n",
    "**Problem**:\n",
    "A cancer hospital has provided data and wants us to determine if a patient has a fatal [malignant][] cancer vs. a benign growth. This is known as a classification problem. To help classify each patient, we are given their age and the size of the tumor. Intuitively, one can imagine that younger patients and/or patient with small tumor size are less likely to have malignant cancer. The data set simulates this application where the each observation is a patient represented as a dot (in the plot below) where red color indicates malignant and blue indicates benign disease. Note: This is a toy example for learning, in real life there are large number of features from different tests/examination sources and doctors'  experience that play into the diagnosis/treatment decision for a patient.\n",
    "[malignant]: https://en.wikipedia.org/wiki/Malignancy"
   ]
  },
  {
   "cell_type": "code",
   "execution_count": 6,
   "metadata": {},
   "outputs": [
    {
     "data": {
      "text/html": [
       "<img src=\"https://www.cntk.ai/jup/cancer_data_plot.jpg\" width=\"400\" height=\"400\"/>"
      ],
      "text/plain": [
       "<IPython.core.display.Image object>"
      ]
     },
     "execution_count": 6,
     "metadata": {},
     "output_type": "execute_result"
    }
   ],
   "source": [
    "# Figure 1\n",
    "Image(url=\"https://www.cntk.ai/jup/cancer_data_plot.jpg\", width=400, height=400)"
   ]
  },
  {
   "cell_type": "markdown",
   "metadata": {},
   "source": [
    "**Goal**:\n",
    "Our goal is to learn a classifier that automatically can label any patient into either benign or malignant category given two features (age and tumor size). In this tutorial, we will create a linear classifier that is a fundamental building-block in deep networks."
   ]
  },
  {
   "cell_type": "code",
   "execution_count": 7,
   "metadata": {},
   "outputs": [
    {
     "data": {
      "text/html": [
       "<img src=\"https://www.cntk.ai/jup/cancer_classify_plot.jpg\" width=\"400\" height=\"400\"/>"
      ],
      "text/plain": [
       "<IPython.core.display.Image object>"
      ]
     },
     "execution_count": 7,
     "metadata": {},
     "output_type": "execute_result"
    }
   ],
   "source": [
    "# Figure 2\n",
    "Image(url= \"https://www.cntk.ai/jup/cancer_classify_plot.jpg\", width=400, height=400)"
   ]
  },
  {
   "cell_type": "markdown",
   "metadata": {},
   "source": [
    "In the figure above, the green line represents the learnt model from the data and separates the blue dots from the red dots. In this tutorial, we will walk you through the steps to learn the green line. Note: this classifier does make mistakes where couple of blue dots are on the wrong side of the green line. However, there are ways to fix this and we will look into some of the techniques in later tutorials. \n",
    "\n",
    "**Approach**: \n",
    "Any learning algorithm has typically five stages. These are Data reading, Data preprocessing, Creating a model, Learning the model parameters, and Evaluating (a.k.a. testing/prediction) the model. \n",
    "\n",
    ">1. Data reading: We generate simulated data sets with each sample having two features (plotted below) indicative of the age and tumor size.\n",
    ">2. Data preprocessing: Often the individual features such as size or age needs to be scaled. Typically one would scale the data between 0 and 1. To keep things simple, we are not doing any scaling in this tutorial (for details look here: [feature scaling][]).\n",
    ">3. Model creation: We introduce a basic linear model in this tutorial. \n",
    ">4. Learning the model: This is also known as training. While fitting a linear model can be done in a variety of ways ([linear regression][]), in CNTK we use Stochastic Gradient Descent a.k.a. [SGD][].\n",
    ">5. Evaluation: This is also known as testing where one takes data sets with known labels (a.k.a. ground-truth) that was not ever used for training. This allows us to assess how a model would perform in real world (previously unseen) observations.\n",
    "\n",
    "## Logistic Regression\n",
    "[Logistic regression][] is fundamental machine learning technique that uses a linear weighted combination of features and generates the probability of predicting different classes. In our case the classifier will generate a  probability in [0,1] which can then be compared with a threshold (such as 0.5) to produce a binary label (0 or 1). However, the method shown can be extended to multiple classes easily. \n",
    "[feature scaling]: https://en.wikipedia.org/wiki/Feature_scaling\n",
    "[SGD]: https://en.wikipedia.org/wiki/Stochastic_gradient_descent\n",
    "[linear regression]: https://en.wikipedia.org/wiki/Linear_regression\n",
    "[logistic regression]: https://en.wikipedia.org/wiki/Logistic_regression\n",
    "[softmax]: https://en.wikipedia.org/wiki/Multinomial_logistic_regression"
   ]
  },
  {
   "cell_type": "code",
   "execution_count": 8,
   "metadata": {},
   "outputs": [
    {
     "data": {
      "text/html": [
       "<img src=\"https://www.cntk.ai/jup/logistic_neuron.jpg\" width=\"300\" height=\"200\"/>"
      ],
      "text/plain": [
       "<IPython.core.display.Image object>"
      ]
     },
     "execution_count": 8,
     "metadata": {},
     "output_type": "execute_result"
    }
   ],
   "source": [
    "# Figure 3\n",
    "Image(url= \"https://www.cntk.ai/jup/logistic_neuron.jpg\", width=300, height=200)"
   ]
  },
  {
   "cell_type": "markdown",
   "metadata": {},
   "source": [
    "In the figure above, contributions from different input features are linearly weighted and aggregated. The resulting sum is mapped to a 0-1 range via a [sigmoid][] function. For classifiers with more than two output labels, one can use a [softmax][] function.\n",
    "[sigmoid]: https://en.wikipedia.org/wiki/Sigmoid_function"
   ]
  },
  {
   "cell_type": "code",
   "execution_count": 9,
   "metadata": {
    "collapsed": true
   },
   "outputs": [],
   "source": [
    "# Import the relevant components\n",
    "from __future__ import print_function\n",
    "import numpy as np\n",
    "import sys\n",
    "import os\n",
    "from cntk import *\n",
    "\n",
    "# Select the right target device when this notebook is being tested:\n",
    "if 'TEST_DEVICE' in os.environ:\n",
    "    import cntk\n",
    "    if os.environ['TEST_DEVICE'] == 'cpu':\n",
    "        cntk.device.set_default_device(cntk.device.cpu())\n",
    "    else:\n",
    "        cntk.device.set_default_device(cntk.device.gpu(0))\n"
   ]
  },
  {
   "cell_type": "markdown",
   "metadata": {},
   "source": [
    "## Data Generation\n",
    "Let us generate some synthetic data emulating the cancer example using `numpy` library. We have two features (represented in two-dimensions)  each either being to one of the two classes (benign:blue dot or malignant:red dot). \n",
    "\n",
    "In our example, each observation in the training data has a label (blue or red) corresponding to each observation (set of features - age and size). In this example, we have two classes represented by labels 0 or 1, thus a  binary classification task. "
   ]
  },
  {
   "cell_type": "code",
   "execution_count": 59,
   "metadata": {
    "collapsed": true
   },
   "outputs": [],
   "source": [
    "# Define the network\n",
    "input_dim = 3\n",
    "num_output_classes = 29"
   ]
  },
  {
   "cell_type": "markdown",
   "metadata": {},
   "source": [
    "### Input and Labels\n",
    "\n",
    "In this tutorial we are generating synthetic data using `numpy` library. In real world problems, one would use a [reader][], that would read feature values (`features`: *age* and *tumor size*) corresponding to each obeservation (patient). The simulated *age* variable is scaled down to have similar range as the other variable. This is a key aspect of data pre-processing that we will learn more in later tutorials. Note, each observation can reside in a higher dimension space (when more features are available) and will be represented as a [tensor][] in CNTK. More advanced tutorials shall introduce the handling of high dimensional data.\n",
    "\n",
    "[reader]: https://github.com/Microsoft/CNTK/search?p=1&q=reader&type=Wikis&utf8=%E2%9C%93\n",
    "[tensor]: https://en.wikipedia.org/wiki/Tensor"
   ]
  },
  {
   "cell_type": "code",
   "execution_count": 60,
   "metadata": {
    "collapsed": true
   },
   "outputs": [],
   "source": [
    "# Ensure we always get the same amount of randomness\n",
    "np.random.seed(0)\n",
    "\n",
    "import csv\n",
    "\n",
    "def GetDataFromCSV(feature_dim, num_classes, strFileName ):\n",
    "    try:\n",
    "        file = open(strFileName, 'r')\n",
    "        csvReader = csv.reader(file)\n",
    "        sample_size = sum(1 for row in csvReader) # Count number of rows in the csv file \n",
    "\n",
    "        # Create label and feature data\n",
    "        labels = np.zeros((sample_size, num_output_classes))\n",
    "        features = np.zeros((sample_size, input_dim))\n",
    "\n",
    "        file.seek(0) # Return to the top of the file\n",
    "        for i, row in enumerate(csvReader):\n",
    "            features[i][:]=[np.float32(row[0]), np.float32(row[1]), np.float32(row[2])]\n",
    "            for j in range(num_output_classes):\n",
    "                if j == (np.float32(row[3])-1):\n",
    "                    labels[i][j] = 1\n",
    "        file.close()\n",
    "\n",
    "        labels = labels.astype(np.float32)   \n",
    "        features = features.astype(np.float32)     \n",
    "\n",
    "        mean_sample = np.mean(features, 0)\n",
    "        std_sample = np.std(features, 0)\n",
    "    except IOError:\n",
    "        print(\"IO Error.\")\n",
    "        return [], [], 0, 0, 1\n",
    "    except:\n",
    "        print(\"Unexpected Error.\")\n",
    "        return [], [], 0, 0, 1\n",
    "        \n",
    "    return features, labels, sample_size, mean_sample, std_sample "
   ]
  },
  {
   "cell_type": "code",
   "execution_count": 12,
   "metadata": {
    "collapsed": true
   },
   "outputs": [],
   "source": [
    "# Create the input variables denoting the features and the label data. Note: the input_variable \n",
    "# does not need additional info on number of observations (Samples) since CNTK creates only \n",
    "# the network topology first \n",
    "\n",
    "# Read CSV DB file for the training\n",
    "features, labels, sample_size, mean_sample, std_sample = GetDataFromCSV(input_dim, num_output_classes, 'CIExyY.csv')   \n",
    "\n",
    "features -= mean_sample\n",
    "features /= std_sample"
   ]
  },
  {
   "cell_type": "markdown",
   "metadata": {},
   "source": [
    "Let us visualize the input data.\n",
    "\n",
    "**Note**: If the import of `matplotlib.pyplot` fails, please run `conda install matplotlib` which will fix the `pyplot` version dependencies. If you are on a python environment different from Anaconda, then use `pip install`."
   ]
  },
  {
   "cell_type": "code",
   "execution_count": 13,
   "metadata": {},
   "outputs": [
    {
     "data": {
      "image/png": "[encoded data removed]",
      "text/plain": [
       "<matplotlib.figure.Figure at 0x21e9a1388d0>"
      ]
     },
     "metadata": {},
     "output_type": "display_data"
    }
   ],
   "source": [
    "# Plot the data \n",
    "import matplotlib.pyplot as plt\n",
    "from mpl_toolkits.mplot3d import Axes3D\n",
    "%matplotlib inline\n",
    "\n",
    "# For the given classes \n",
    "colors = np.nonzero(labels)[1]\n",
    "\n",
    "# Plot data with the selected colormap\n",
    "fig = plt.figure()\n",
    "fig.set_size_inches(18.5, 10.5)\n",
    "\n",
    "coler_map=plt.get_cmap('hsv')\n",
    "ax = fig.add_subplot(111, projection='3d')\n",
    "ax.scatter(features[:,0], features[:,1], features[:,2], c=colors, cmap=coler_map)\n",
    "\n",
    "ax.set_xlabel('X')\n",
    "ax.set_ylabel('Y')\n",
    "ax.set_zlabel('intensity')\n",
    "\n",
    "plt.show()"
   ]
  },
  {
   "cell_type": "markdown",
   "metadata": {},
   "source": [
    "# Model Creation\n",
    "\n",
    "A logistic regression (a.k.a. LR) network is the simplest building block but has been powering many ML \n",
    "applications in the past decade. LR is a simple linear model that takes as input, a vector of numbers describing the properties of what we are classifying (also known as a feature vector, $\\bf{x}$, the blue nodes in the figure) and emits the *evidence* ($z$) (output of the green node, a.k.a. as activation). Each feature in the input layer is connected with a output node by a corresponding weight w (indicated by the black lines of varying thickness). "
   ]
  },
  {
   "cell_type": "code",
   "execution_count": 14,
   "metadata": {},
   "outputs": [
    {
     "data": {
      "text/html": [
       "<img src=\"https://www.cntk.ai/jup/logistic_neuron2.jpg\" width=\"300\" height=\"200\"/>"
      ],
      "text/plain": [
       "<IPython.core.display.Image object>"
      ]
     },
     "execution_count": 14,
     "metadata": {},
     "output_type": "execute_result"
    }
   ],
   "source": [
    "    # Figure 4\n",
    "    Image(url= \"https://www.cntk.ai/jup/logistic_neuron2.jpg\", width=300, height=200)"
   ]
  },
  {
   "cell_type": "markdown",
   "metadata": {},
   "source": [
    "The first step is to compute the evidence for an observation. \n",
    "\n",
    "$$z = \\sum_{i=1}^n w_i \\times x_i + b = \\textbf{w} \\cdot \\textbf{x} + b$$ \n",
    "\n",
    "where $\\bf{w}$ is the weight vector of length $n$ and $b$ is known as the [bias][] term. Note: we use **bold** notation to denote vectors. \n",
    "\n",
    "The computed evidence is mapped to a 0-1 scale using a [`sigmoid`][] (when the outcome can take one of two values) or a `softmax` function (when the outcome can take one of more than 2 classes value).\n",
    "\n",
    "Network input and output: \n",
    "- **input** variable (a key CNTK concept): \n",
    ">An **input** variable is a user-code facing container where user-provided code fills in different observations (data point or sample, equivalent to a blue/red dot in our example) as inputs to the model function during model learning (a.k.a.training) and model evaluation (a.k.a. testing). Thus, the shape of the `input_variable` must match the shape of the data that will be provided.  For example, when data are images each of  height 10 pixels  and width 5 pixels, the input feature dimension will be 2 (representing image height and width). Similarly, in our example the dimensions are age and tumor size, thus `input_dim` = 2. More on data and their dimensions to appear in separate tutorials. \n",
    "\n",
    "[bias]: https://www.quora.com/What-does-the-bias-term-represent-in-logistic-regression\n",
    "\n",
    "[`sigmoid`]: https://en.wikipedia.org/wiki/Sigmoid_function"
   ]
  },
  {
   "cell_type": "code",
   "execution_count": 15,
   "metadata": {
    "collapsed": true
   },
   "outputs": [],
   "source": [
    "input = input_variable(input_dim, np.float32)"
   ]
  },
  {
   "cell_type": "markdown",
   "metadata": {},
   "source": [
    "## Network setup\n",
    "\n",
    "The `linear_layer` function is a straight forward implementation of the equation above. We perform two operations:\n",
    "0. multiply the weights ($\\bf{w}$)  with the features ($\\bf{x}$) using CNTK `times` operator and add individual features' contribution,\n",
    "1. add the bias term $b$.\n",
    "\n",
    "These CNTK operations are optimized for execution on the available hardware and the implementation hides the complexity away from the user. "
   ]
  },
  {
   "cell_type": "code",
   "execution_count": 16,
   "metadata": {
    "collapsed": true
   },
   "outputs": [],
   "source": [
    "# Define a dictionary to store the model parameters\n",
    "mydict = {\"w\":None,\"b\":None} \n",
    "\n",
    "def linear_layer(input_var, output_dim):\n",
    "    \n",
    "    input_dim = input_var.shape[0]\n",
    "    weight_param = parameter(shape=(input_dim, output_dim))\n",
    "    bias_param = parameter(shape=(output_dim))\n",
    "    \n",
    "    mydict['w'], mydict['b'] = weight_param, bias_param\n",
    "\n",
    "    return times(input_var, weight_param) + bias_param"
   ]
  },
  {
   "cell_type": "markdown",
   "metadata": {},
   "source": [
    "`z` will be used to represent the output of a network."
   ]
  },
  {
   "cell_type": "code",
   "execution_count": 17,
   "metadata": {
    "collapsed": true
   },
   "outputs": [],
   "source": [
    "output_dim = num_output_classes\n",
    "z = linear_layer(input, output_dim)"
   ]
  },
  {
   "cell_type": "markdown",
   "metadata": {},
   "source": [
    "### Learning model parameters\n",
    "\n",
    "Now that the network is setup, we would like to learn the parameters $\\bf w$ and $b$ for our simple linear layer. To do so we convert, the computed evidence ($z$) into a set of predicted probabilities ($\\textbf p$) using a `softmax` function.\n",
    "\n",
    "$$ \\textbf{p} = \\mathrm{softmax}(z)$$ \n",
    "\n",
    "The `softmax` is an activation function that maps the accumulated evidences to a probability distribution over the classes (Details of the [softmax function][]). Other choices of activation function can be [found here][].\n",
    "\n",
    "[softmax function]: https://www.cntk.ai/pythondocs/cntk.ops.html#cntk.ops.softmax\n",
    "\n",
    "[found here]: https://github.com/Microsoft/CNTK/wiki/Activation-Functions"
   ]
  },
  {
   "cell_type": "markdown",
   "metadata": {},
   "source": [
    "## Training\n",
    "The output of the `softmax` is a probability of observations belonging to the respective classes. For training the classifier, we need to determine what behavior the model needs to mimic. In other words, we want the generated probabilities to be as close as possible to the observed labels. This function is called the *cost* or *loss* function and shows what is the difference between the learnt model vs. that generated by the training set.\n",
    "\n",
    "[`Cross-entropy`][] is a popular function to measure the loss. It is defined as:\n",
    "\n",
    "$$ H(p) = - \\sum_{j=1}^C y_j \\log (p_j) $$  \n",
    "\n",
    "where $p$ is our predicted probability from `softmax` function and $y$ represents the label. This label provided with the data for training is also called the ground-truth label. In the two-class example, the `label` variable has dimensions of two (equal to the `num_output_classes` or $C$). Generally speaking, if the task in hand requires classification into $C$ different classes, the label variable will have $C$ elements with 0 everywhere except for the class represented by the data point where it will be 1.  Understanding the [details][] of this cross-entropy function is highly recommended.\n",
    "\n",
    "[`cross-entropy`]: http://cntk.ai/pythondocs/cntk.ops.html#cntk.ops.cross_entropy_with_softmax\n",
    "[details]: http://colah.github.io/posts/2015-09-Visual-Information/"
   ]
  },
  {
   "cell_type": "code",
   "execution_count": 19,
   "metadata": {},
   "outputs": [],
   "source": [
    "label = input_variable((num_output_classes), np.float32)\n",
    "loss = cross_entropy_with_softmax(z, label)"
   ]
  },
  {
   "cell_type": "markdown",
   "metadata": {},
   "source": [
    "#### Evaluation\n",
    "\n",
    "In order to evaluate the classification, one can compare the output of the network which for each observation emits a vector of evidences (can be converted into probabilities using `softmax` functions) with dimension equal to number of classes."
   ]
  },
  {
   "cell_type": "code",
   "execution_count": 21,
   "metadata": {},
   "outputs": [],
   "source": [
    "eval_error = classification_error(z, label)"
   ]
  },
  {
   "cell_type": "markdown",
   "metadata": {},
   "source": [
    "### Configure training\n",
    "\n",
    "The trainer strives to reduce the `loss` function by different optimization approaches, [Stochastic Gradient Descent][] (`sgd`) being one of the most popular one. Typically, one would start with random initialization of the model parameters. The `sgd` optimizer would calculate the `loss` or error between the predicted label against the corresponding ground-truth label and using [gradient-decent][] generate a new set model parameters in a single iteration. \n",
    "\n",
    "The aforementioned model parameter update using a single observation at a time is attractive since it does not require the entire data set (all observation) to be loaded in memory and also requires gradient computation over fewer datapoints, thus allowing for training on large data sets. However, the updates generated using a single observation sample at a time can vary wildly between iterations. An intermediate ground is to load a small set of observations and use an average of the `loss` or error from that set to update the model parameters. This subset is called a *minibatch*.\n",
    "\n",
    "With minibatches we often sample observation from the larger training dataset. We repeat the process of model parameters update using different combination of training samples and over a period of time minimize the `loss` (and the error). When the incremental error rates are no longer changing significantly or after a preset number of maximum minibatches to train, we claim that our model is trained.\n",
    "\n",
    "One of the key parameter for optimization is called the `learning_rate`. For now, we can think of it as a scaling factor that modulates how much we change the parameters in any iteration. We will be covering more details in later tutorial. \n",
    "With this information, we are ready to create our trainer. \n",
    "\n",
    "[optimization]: https://en.wikipedia.org/wiki/Category:Convex_optimization\n",
    "[Stochastic Gradient Descent]: https://en.wikipedia.org/wiki/Stochastic_gradient_descent\n",
    "[gradient-decent]: http://www.statisticsviews.com/details/feature/5722691/Getting-to-the-Bottom-of-Regression-with-Gradient-Descent.html"
   ]
  },
  {
   "cell_type": "code",
   "execution_count": 22,
   "metadata": {
    "collapsed": true
   },
   "outputs": [],
   "source": [
    "# Instantiate the trainer object to drive the model training\n",
    "learning_rate = 0.7\n",
    "lr_schedule = learning_rate_schedule(learning_rate, UnitType.minibatch) \n",
    "learner = sgd(z.parameters, lr_schedule, l2_regularization_weight=0.0003)\n",
    "trainer = Trainer(z, (loss, eval_error), [learner])"
   ]
  },
  {
   "cell_type": "markdown",
   "metadata": {},
   "source": [
    "First let us create some helper functions that will be needed to visualize different functions associated with training. Note these convinience functions are for understanding what goes under the hood."
   ]
  },
  {
   "cell_type": "code",
   "execution_count": 23,
   "metadata": {
    "collapsed": true
   },
   "outputs": [],
   "source": [
    "# Define a utility function to compute the moving average sum.\n",
    "# A more efficient implementation is possible with np.cumsum() function\n",
    "def moving_average(a, w=10):\n",
    "    if len(a) < w: \n",
    "        return a[:]    \n",
    "    return [val if idx < w else sum(a[(idx-w):idx])/w for idx, val in enumerate(a)]\n",
    "\n",
    "\n",
    "# Defines a utility that prints the training progress\n",
    "def print_training_progress(trainer, mb, frequency, verbose=1):\n",
    "    training_loss, eval_error = \"NA\", \"NA\"\n",
    "\n",
    "    if mb % frequency == 0:\n",
    "        training_loss = trainer.previous_minibatch_loss_average\n",
    "        eval_error = trainer.previous_minibatch_evaluation_average\n",
    "        if verbose: \n",
    "            print (\"Minibatch: {0}, Loss: {1:.4f}, Error: {2:.2f}\".format(mb, training_loss, eval_error))\n",
    "        \n",
    "    return mb, training_loss, eval_error"
   ]
  },
  {
   "cell_type": "markdown",
   "metadata": {},
   "source": [
    "### Run the trainer\n",
    "\n",
    "We are now ready to train our Logistic Regression model. We want to decide what data we need to feed into the training engine.\n",
    "\n",
    "In this example, each iteration of the optimizer will work on 25 samples (25 dots w.r.t. the plot above) a.k.a. `minibatch_size`. We would like to train on say 20000 observations. If the number of samples in the data is only 10000, the trainer will make 2 passes through the data. This is represented by `num_minibatches_to_train`. Note: In real world case, we would be given a certain amount of labeled data (in the context of this example, observation (age, size) and what they mean (benign / malignant)). We would use a large number of observations for training say 70% and set aside the remainder for evaluation of the trained model.\n",
    "\n",
    "With these parameters we can proceed with training our simple feedforward network."
   ]
  },
  {
   "cell_type": "code",
   "execution_count": 24,
   "metadata": {
    "collapsed": true
   },
   "outputs": [],
   "source": [
    "# Initialize the parameters for the trainer\n",
    "minibatch_size = 30\n",
    "num_samples_to_train = 60000\n",
    "num_minibatches_to_train = int(num_samples_to_train  / minibatch_size)"
   ]
  },
  {
   "cell_type": "code",
   "execution_count": 25,
   "metadata": {},
   "outputs": [
    {
     "name": "stdout",
     "output_type": "stream",
     "text": [
      "Minibatch: 0, Loss: 3.3673, Error: 0.97\n",
      "Minibatch: 50, Loss: 2.5260, Error: 0.73\n",
      "Minibatch: 100, Loss: 2.2806, Error: 0.58\n",
      "Minibatch: 150, Loss: 2.1200, Error: 0.53\n",
      "Minibatch: 200, Loss: 2.0013, Error: 0.45\n",
      "Minibatch: 250, Loss: 1.9077, Error: 0.33\n",
      "Minibatch: 300, Loss: 1.8308, Error: 0.27\n",
      "Minibatch: 350, Loss: 1.7657, Error: 0.20\n",
      "Minibatch: 400, Loss: 1.7094, Error: 0.18\n",
      "Minibatch: 450, Loss: 1.6600, Error: 0.17\n",
      "Minibatch: 500, Loss: 1.6160, Error: 0.14\n",
      "Minibatch: 550, Loss: 1.5765, Error: 0.14\n",
      "Minibatch: 600, Loss: 1.5407, Error: 0.14\n",
      "Minibatch: 650, Loss: 1.5081, Error: 0.13\n",
      "Minibatch: 700, Loss: 1.4781, Error: 0.13\n",
      "Minibatch: 750, Loss: 1.4504, Error: 0.13\n",
      "Minibatch: 800, Loss: 1.4247, Error: 0.12\n",
      "Minibatch: 850, Loss: 1.4008, Error: 0.12\n",
      "Minibatch: 900, Loss: 1.3785, Error: 0.11\n",
      "Minibatch: 950, Loss: 1.3576, Error: 0.11\n",
      "Minibatch: 1000, Loss: 1.3380, Error: 0.10\n",
      "Minibatch: 1050, Loss: 1.3195, Error: 0.10\n",
      "Minibatch: 1100, Loss: 1.3021, Error: 0.09\n",
      "Minibatch: 1150, Loss: 1.2856, Error: 0.09\n",
      "Minibatch: 1200, Loss: 1.2700, Error: 0.08\n",
      "Minibatch: 1250, Loss: 1.2552, Error: 0.08\n",
      "Minibatch: 1300, Loss: 1.2411, Error: 0.08\n",
      "Minibatch: 1350, Loss: 1.2278, Error: 0.08\n",
      "Minibatch: 1400, Loss: 1.2150, Error: 0.08\n",
      "Minibatch: 1450, Loss: 1.2028, Error: 0.08\n",
      "Minibatch: 1500, Loss: 1.1912, Error: 0.08\n",
      "Minibatch: 1550, Loss: 1.1801, Error: 0.08\n",
      "Minibatch: 1600, Loss: 1.1695, Error: 0.07\n",
      "Minibatch: 1650, Loss: 1.1593, Error: 0.07\n",
      "Minibatch: 1700, Loss: 1.1495, Error: 0.06\n",
      "Minibatch: 1750, Loss: 1.1402, Error: 0.05\n",
      "Minibatch: 1800, Loss: 1.1312, Error: 0.05\n",
      "Minibatch: 1850, Loss: 1.1225, Error: 0.05\n",
      "Minibatch: 1900, Loss: 1.1142, Error: 0.04\n",
      "Minibatch: 1950, Loss: 1.1062, Error: 0.04\n",
      "Minibatch: 2000, Loss: 1.0985, Error: 0.04\n",
      "Minibatch: 2050, Loss: 1.0911, Error: 0.04\n",
      "Minibatch: 2100, Loss: 1.0839, Error: 0.04\n",
      "Minibatch: 2150, Loss: 1.0770, Error: 0.04\n",
      "Minibatch: 2200, Loss: 1.0704, Error: 0.04\n",
      "Minibatch: 2250, Loss: 1.0640, Error: 0.04\n",
      "Minibatch: 2300, Loss: 1.0577, Error: 0.03\n",
      "Minibatch: 2350, Loss: 1.0518, Error: 0.03\n",
      "Minibatch: 2400, Loss: 1.0460, Error: 0.03\n",
      "Minibatch: 2450, Loss: 1.0404, Error: 0.03\n",
      "Minibatch: 2500, Loss: 1.0349, Error: 0.03\n",
      "Minibatch: 2550, Loss: 1.0297, Error: 0.03\n",
      "Minibatch: 2600, Loss: 1.0246, Error: 0.02\n",
      "Minibatch: 2650, Loss: 1.0197, Error: 0.02\n",
      "Minibatch: 2700, Loss: 1.0149, Error: 0.02\n",
      "Minibatch: 2750, Loss: 1.0103, Error: 0.02\n",
      "Minibatch: 2800, Loss: 1.0058, Error: 0.02\n",
      "Minibatch: 2850, Loss: 1.0015, Error: 0.02\n",
      "Minibatch: 2900, Loss: 0.9973, Error: 0.02\n",
      "Minibatch: 2950, Loss: 0.9932, Error: 0.02\n",
      "Minibatch: 3000, Loss: 0.9892, Error: 0.02\n",
      "Minibatch: 3050, Loss: 0.9854, Error: 0.02\n",
      "Minibatch: 3100, Loss: 0.9817, Error: 0.02\n",
      "Minibatch: 3150, Loss: 0.9780, Error: 0.02\n",
      "Minibatch: 3200, Loss: 0.9745, Error: 0.02\n",
      "Minibatch: 3250, Loss: 0.9711, Error: 0.02\n",
      "Minibatch: 3300, Loss: 0.9678, Error: 0.02\n",
      "Minibatch: 3350, Loss: 0.9645, Error: 0.02\n",
      "Minibatch: 3400, Loss: 0.9614, Error: 0.02\n",
      "Minibatch: 3450, Loss: 0.9583, Error: 0.02\n",
      "Minibatch: 3500, Loss: 0.9554, Error: 0.02\n",
      "Minibatch: 3550, Loss: 0.9525, Error: 0.02\n",
      "Minibatch: 3600, Loss: 0.9497, Error: 0.02\n",
      "Minibatch: 3650, Loss: 0.9469, Error: 0.02\n",
      "Minibatch: 3700, Loss: 0.9443, Error: 0.01\n",
      "Minibatch: 3750, Loss: 0.9417, Error: 0.01\n",
      "Minibatch: 3800, Loss: 0.9391, Error: 0.01\n",
      "Minibatch: 3850, Loss: 0.9367, Error: 0.01\n",
      "Minibatch: 3900, Loss: 0.9343, Error: 0.01\n",
      "Minibatch: 3950, Loss: 0.9320, Error: 0.01\n",
      "Minibatch: 4000, Loss: 0.9297, Error: 0.01\n",
      "Minibatch: 4050, Loss: 0.9275, Error: 0.01\n",
      "Minibatch: 4100, Loss: 0.9253, Error: 0.01\n",
      "Minibatch: 4150, Loss: 0.9232, Error: 0.01\n",
      "Minibatch: 4200, Loss: 0.9212, Error: 0.01\n",
      "Minibatch: 4250, Loss: 0.9192, Error: 0.01\n",
      "Minibatch: 4300, Loss: 0.9173, Error: 0.01\n",
      "Minibatch: 4350, Loss: 0.9154, Error: 0.01\n",
      "Minibatch: 4400, Loss: 0.9135, Error: 0.01\n",
      "Minibatch: 4450, Loss: 0.9117, Error: 0.01\n",
      "Minibatch: 4500, Loss: 0.9100, Error: 0.01\n",
      "Minibatch: 4550, Loss: 0.9082, Error: 0.01\n",
      "Minibatch: 4600, Loss: 0.9066, Error: 0.01\n",
      "Minibatch: 4650, Loss: 0.9049, Error: 0.01\n",
      "Minibatch: 4700, Loss: 0.9034, Error: 0.01\n",
      "Minibatch: 4750, Loss: 0.9018, Error: 0.01\n",
      "Minibatch: 4800, Loss: 0.9003, Error: 0.01\n",
      "Minibatch: 4850, Loss: 0.8988, Error: 0.01\n",
      "Minibatch: 4900, Loss: 0.8974, Error: 0.01\n",
      "Minibatch: 4950, Loss: 0.8960, Error: 0.01\n",
      "Minibatch: 5000, Loss: 0.8946, Error: 0.01\n",
      "Minibatch: 5050, Loss: 0.8932, Error: 0.01\n",
      "Minibatch: 5100, Loss: 0.8919, Error: 0.01\n",
      "Minibatch: 5150, Loss: 0.8907, Error: 0.01\n",
      "Minibatch: 5200, Loss: 0.8894, Error: 0.01\n",
      "Minibatch: 5250, Loss: 0.8882, Error: 0.01\n",
      "Minibatch: 5300, Loss: 0.8870, Error: 0.01\n",
      "Minibatch: 5350, Loss: 0.8858, Error: 0.01\n",
      "Minibatch: 5400, Loss: 0.8847, Error: 0.01\n",
      "Minibatch: 5450, Loss: 0.8836, Error: 0.01\n",
      "Minibatch: 5500, Loss: 0.8825, Error: 0.01\n",
      "Minibatch: 5550, Loss: 0.8814, Error: 0.01\n",
      "Minibatch: 5600, Loss: 0.8804, Error: 0.01\n",
      "Minibatch: 5650, Loss: 0.8794, Error: 0.01\n",
      "Minibatch: 5700, Loss: 0.8784, Error: 0.01\n",
      "Minibatch: 5750, Loss: 0.8774, Error: 0.01\n",
      "Minibatch: 5800, Loss: 0.8765, Error: 0.01\n",
      "Minibatch: 5850, Loss: 0.8756, Error: 0.00\n",
      "Minibatch: 5900, Loss: 0.8747, Error: 0.00\n",
      "Minibatch: 5950, Loss: 0.8738, Error: 0.00\n",
      "Minibatch: 6000, Loss: 0.8729, Error: 0.00\n",
      "Minibatch: 6050, Loss: 0.8721, Error: 0.00\n",
      "Minibatch: 6100, Loss: 0.8713, Error: 0.00\n",
      "Minibatch: 6150, Loss: 0.8705, Error: 0.00\n",
      "Minibatch: 6200, Loss: 0.8697, Error: 0.00\n",
      "Minibatch: 6250, Loss: 0.8689, Error: 0.00\n",
      "Minibatch: 6300, Loss: 0.8682, Error: 0.00\n",
      "Minibatch: 6350, Loss: 0.8674, Error: 0.00\n",
      "Minibatch: 6400, Loss: 0.8667, Error: 0.00\n",
      "Minibatch: 6450, Loss: 0.8660, Error: 0.00\n",
      "Minibatch: 6500, Loss: 0.8653, Error: 0.00\n",
      "Minibatch: 6550, Loss: 0.8646, Error: 0.00\n",
      "Minibatch: 6600, Loss: 0.8640, Error: 0.00\n",
      "Minibatch: 6650, Loss: 0.8633, Error: 0.00\n",
      "Minibatch: 6700, Loss: 0.8627, Error: 0.00\n",
      "Minibatch: 6750, Loss: 0.8621, Error: 0.00\n",
      "Minibatch: 6800, Loss: 0.8615, Error: 0.00\n",
      "Minibatch: 6850, Loss: 0.8609, Error: 0.00\n",
      "Minibatch: 6900, Loss: 0.8603, Error: 0.00\n",
      "Minibatch: 6950, Loss: 0.8598, Error: 0.00\n",
      "Minibatch: 7000, Loss: 0.8592, Error: 0.00\n",
      "Minibatch: 7050, Loss: 0.8587, Error: 0.00\n",
      "Minibatch: 7100, Loss: 0.8581, Error: 0.00\n",
      "Minibatch: 7150, Loss: 0.8576, Error: 0.00\n",
      "Minibatch: 7200, Loss: 0.8571, Error: 0.00\n",
      "Minibatch: 7250, Loss: 0.8566, Error: 0.00\n",
      "Minibatch: 7300, Loss: 0.8561, Error: 0.00\n",
      "Minibatch: 7350, Loss: 0.8557, Error: 0.00\n",
      "Minibatch: 7400, Loss: 0.8552, Error: 0.00\n",
      "Minibatch: 7450, Loss: 0.8547, Error: 0.00\n",
      "Minibatch: 7500, Loss: 0.8543, Error: 0.00\n",
      "Minibatch: 7550, Loss: 0.8539, Error: 0.00\n",
      "Minibatch: 7600, Loss: 0.8534, Error: 0.00\n",
      "Minibatch: 7650, Loss: 0.8530, Error: 0.00\n",
      "Minibatch: 7700, Loss: 0.8526, Error: 0.00\n",
      "Minibatch: 7750, Loss: 0.8522, Error: 0.00\n",
      "Minibatch: 7800, Loss: 0.8518, Error: 0.00\n",
      "Minibatch: 7850, Loss: 0.8514, Error: 0.00\n",
      "Minibatch: 7900, Loss: 0.8510, Error: 0.00\n",
      "Minibatch: 7950, Loss: 0.8507, Error: 0.00\n",
      "Minibatch: 8000, Loss: 0.8503, Error: 0.00\n",
      "Minibatch: 8050, Loss: 0.8500, Error: 0.00\n",
      "Minibatch: 8100, Loss: 0.8496, Error: 0.00\n",
      "Minibatch: 8150, Loss: 0.8493, Error: 0.00\n",
      "Minibatch: 8200, Loss: 0.8490, Error: 0.00\n",
      "Minibatch: 8250, Loss: 0.8486, Error: 0.00\n",
      "Minibatch: 8300, Loss: 0.8483, Error: 0.00\n",
      "Minibatch: 8350, Loss: 0.8480, Error: 0.00\n",
      "Minibatch: 8400, Loss: 0.8477, Error: 0.00\n",
      "Minibatch: 8450, Loss: 0.8474, Error: 0.00\n",
      "Minibatch: 8500, Loss: 0.8471, Error: 0.00\n",
      "Minibatch: 8550, Loss: 0.8468, Error: 0.00\n",
      "Minibatch: 8600, Loss: 0.8465, Error: 0.00\n",
      "Minibatch: 8650, Loss: 0.8463, Error: 0.00\n",
      "Minibatch: 8700, Loss: 0.8460, Error: 0.00\n",
      "Minibatch: 8750, Loss: 0.8457, Error: 0.00\n",
      "Minibatch: 8800, Loss: 0.8455, Error: 0.00\n",
      "Minibatch: 8850, Loss: 0.8452, Error: 0.00\n",
      "Minibatch: 8900, Loss: 0.8450, Error: 0.00\n",
      "Minibatch: 8950, Loss: 0.8447, Error: 0.00\n",
      "Minibatch: 9000, Loss: 0.8445, Error: 0.00\n",
      "Minibatch: 9050, Loss: 0.8442, Error: 0.00\n",
      "Minibatch: 9100, Loss: 0.8440, Error: 0.00\n",
      "Minibatch: 9150, Loss: 0.8438, Error: 0.00\n",
      "Minibatch: 9200, Loss: 0.8436, Error: 0.00\n",
      "Minibatch: 9250, Loss: 0.8434, Error: 0.00\n",
      "Minibatch: 9300, Loss: 0.8431, Error: 0.00\n",
      "Minibatch: 9350, Loss: 0.8429, Error: 0.00\n",
      "Minibatch: 9400, Loss: 0.8427, Error: 0.00\n",
      "Minibatch: 9450, Loss: 0.8425, Error: 0.00\n",
      "Minibatch: 9500, Loss: 0.8423, Error: 0.00\n",
      "Minibatch: 9550, Loss: 0.8422, Error: 0.00\n",
      "Minibatch: 9600, Loss: 0.8420, Error: 0.00\n",
      "Minibatch: 9650, Loss: 0.8418, Error: 0.00\n",
      "Minibatch: 9700, Loss: 0.8416, Error: 0.00\n"
     ]
    },
    {
     "name": "stdout",
     "output_type": "stream",
     "text": [
      "Minibatch: 9750, Loss: 0.8414, Error: 0.00\n",
      "Minibatch: 9800, Loss: 0.8413, Error: 0.00\n",
      "Minibatch: 9850, Loss: 0.8411, Error: 0.00\n",
      "Minibatch: 9900, Loss: 0.8409, Error: 0.00\n",
      "Minibatch: 9950, Loss: 0.8408, Error: 0.00\n",
      "Minibatch: 10000, Loss: 0.8406, Error: 0.00\n",
      "Minibatch: 10050, Loss: 0.8404, Error: 0.00\n",
      "Minibatch: 10100, Loss: 0.8403, Error: 0.00\n",
      "Minibatch: 10150, Loss: 0.8401, Error: 0.00\n",
      "Minibatch: 10200, Loss: 0.8400, Error: 0.00\n",
      "Minibatch: 10250, Loss: 0.8398, Error: 0.00\n",
      "Minibatch: 10300, Loss: 0.8397, Error: 0.00\n",
      "Minibatch: 10350, Loss: 0.8396, Error: 0.00\n",
      "Minibatch: 10400, Loss: 0.8394, Error: 0.00\n",
      "Minibatch: 10450, Loss: 0.8393, Error: 0.00\n",
      "Minibatch: 10500, Loss: 0.8392, Error: 0.00\n",
      "Minibatch: 10550, Loss: 0.8390, Error: 0.00\n",
      "Minibatch: 10600, Loss: 0.8389, Error: 0.00\n",
      "Minibatch: 10650, Loss: 0.8388, Error: 0.00\n",
      "Minibatch: 10700, Loss: 0.8387, Error: 0.00\n",
      "Minibatch: 10750, Loss: 0.8385, Error: 0.00\n",
      "Minibatch: 10800, Loss: 0.8384, Error: 0.00\n",
      "Minibatch: 10850, Loss: 0.8383, Error: 0.00\n",
      "Minibatch: 10900, Loss: 0.8382, Error: 0.00\n",
      "Minibatch: 10950, Loss: 0.8381, Error: 0.00\n",
      "Minibatch: 11000, Loss: 0.8380, Error: 0.00\n",
      "Minibatch: 11050, Loss: 0.8379, Error: 0.00\n",
      "Minibatch: 11100, Loss: 0.8378, Error: 0.00\n",
      "Minibatch: 11150, Loss: 0.8377, Error: 0.00\n",
      "Minibatch: 11200, Loss: 0.8376, Error: 0.00\n",
      "Minibatch: 11250, Loss: 0.8375, Error: 0.00\n",
      "Minibatch: 11300, Loss: 0.8374, Error: 0.00\n",
      "Minibatch: 11350, Loss: 0.8373, Error: 0.00\n",
      "Minibatch: 11400, Loss: 0.8372, Error: 0.00\n",
      "Minibatch: 11450, Loss: 0.8371, Error: 0.00\n",
      "Minibatch: 11500, Loss: 0.8370, Error: 0.00\n",
      "Minibatch: 11550, Loss: 0.8369, Error: 0.00\n",
      "Minibatch: 11600, Loss: 0.8368, Error: 0.00\n",
      "Minibatch: 11650, Loss: 0.8367, Error: 0.00\n",
      "Minibatch: 11700, Loss: 0.8367, Error: 0.00\n",
      "Minibatch: 11750, Loss: 0.8366, Error: 0.00\n",
      "Minibatch: 11800, Loss: 0.8365, Error: 0.00\n",
      "Minibatch: 11850, Loss: 0.8364, Error: 0.00\n",
      "Minibatch: 11900, Loss: 0.8363, Error: 0.00\n",
      "Minibatch: 11950, Loss: 0.8363, Error: 0.00\n",
      "Minibatch: 12000, Loss: 0.8362, Error: 0.00\n",
      "Minibatch: 12050, Loss: 0.8361, Error: 0.00\n",
      "Minibatch: 12100, Loss: 0.8361, Error: 0.00\n",
      "Minibatch: 12150, Loss: 0.8360, Error: 0.00\n",
      "Minibatch: 12200, Loss: 0.8359, Error: 0.00\n",
      "Minibatch: 12250, Loss: 0.8359, Error: 0.00\n",
      "Minibatch: 12300, Loss: 0.8358, Error: 0.00\n",
      "Minibatch: 12350, Loss: 0.8357, Error: 0.00\n",
      "Minibatch: 12400, Loss: 0.8357, Error: 0.00\n",
      "Minibatch: 12450, Loss: 0.8356, Error: 0.00\n",
      "Minibatch: 12500, Loss: 0.8355, Error: 0.00\n",
      "Minibatch: 12550, Loss: 0.8355, Error: 0.00\n",
      "Minibatch: 12600, Loss: 0.8354, Error: 0.00\n",
      "Minibatch: 12650, Loss: 0.8354, Error: 0.00\n",
      "Minibatch: 12700, Loss: 0.8353, Error: 0.00\n",
      "Minibatch: 12750, Loss: 0.8352, Error: 0.00\n",
      "Minibatch: 12800, Loss: 0.8352, Error: 0.00\n",
      "Minibatch: 12850, Loss: 0.8351, Error: 0.00\n",
      "Minibatch: 12900, Loss: 0.8351, Error: 0.00\n",
      "Minibatch: 12950, Loss: 0.8350, Error: 0.00\n",
      "Minibatch: 13000, Loss: 0.8350, Error: 0.00\n",
      "Minibatch: 13050, Loss: 0.8349, Error: 0.00\n",
      "Minibatch: 13100, Loss: 0.8349, Error: 0.00\n",
      "Minibatch: 13150, Loss: 0.8348, Error: 0.00\n",
      "Minibatch: 13200, Loss: 0.8348, Error: 0.00\n",
      "Minibatch: 13250, Loss: 0.8347, Error: 0.00\n",
      "Minibatch: 13300, Loss: 0.8347, Error: 0.00\n",
      "Minibatch: 13350, Loss: 0.8346, Error: 0.00\n",
      "Minibatch: 13400, Loss: 0.8346, Error: 0.00\n",
      "Minibatch: 13450, Loss: 0.8346, Error: 0.00\n",
      "Minibatch: 13500, Loss: 0.8345, Error: 0.00\n",
      "Minibatch: 13550, Loss: 0.8345, Error: 0.00\n",
      "Minibatch: 13600, Loss: 0.8344, Error: 0.00\n",
      "Minibatch: 13650, Loss: 0.8344, Error: 0.00\n",
      "Minibatch: 13700, Loss: 0.8344, Error: 0.00\n",
      "Minibatch: 13750, Loss: 0.8343, Error: 0.00\n",
      "Minibatch: 13800, Loss: 0.8343, Error: 0.00\n",
      "Minibatch: 13850, Loss: 0.8342, Error: 0.00\n",
      "Minibatch: 13900, Loss: 0.8342, Error: 0.00\n",
      "Minibatch: 13950, Loss: 0.8342, Error: 0.00\n",
      "Minibatch: 14000, Loss: 0.8341, Error: 0.00\n",
      "Minibatch: 14050, Loss: 0.8341, Error: 0.00\n",
      "Minibatch: 14100, Loss: 0.8341, Error: 0.00\n",
      "Minibatch: 14150, Loss: 0.8340, Error: 0.00\n",
      "Minibatch: 14200, Loss: 0.8340, Error: 0.00\n",
      "Minibatch: 14250, Loss: 0.8340, Error: 0.00\n",
      "Minibatch: 14300, Loss: 0.8339, Error: 0.00\n",
      "Minibatch: 14350, Loss: 0.8339, Error: 0.00\n",
      "Minibatch: 14400, Loss: 0.8339, Error: 0.00\n",
      "Minibatch: 14450, Loss: 0.8338, Error: 0.00\n",
      "Minibatch: 14500, Loss: 0.8338, Error: 0.00\n",
      "Minibatch: 14550, Loss: 0.8338, Error: 0.00\n",
      "Minibatch: 14600, Loss: 0.8337, Error: 0.00\n",
      "Minibatch: 14650, Loss: 0.8337, Error: 0.00\n",
      "Minibatch: 14700, Loss: 0.8337, Error: 0.00\n",
      "Minibatch: 14750, Loss: 0.8337, Error: 0.00\n",
      "Minibatch: 14800, Loss: 0.8336, Error: 0.00\n",
      "Minibatch: 14850, Loss: 0.8336, Error: 0.00\n",
      "Minibatch: 14900, Loss: 0.8336, Error: 0.00\n",
      "Minibatch: 14950, Loss: 0.8336, Error: 0.00\n",
      "Minibatch: 15000, Loss: 0.8335, Error: 0.00\n",
      "Minibatch: 15050, Loss: 0.8335, Error: 0.00\n",
      "Minibatch: 15100, Loss: 0.8335, Error: 0.00\n",
      "Minibatch: 15150, Loss: 0.8335, Error: 0.00\n",
      "Minibatch: 15200, Loss: 0.8334, Error: 0.00\n",
      "Minibatch: 15250, Loss: 0.8334, Error: 0.00\n",
      "Minibatch: 15300, Loss: 0.8334, Error: 0.00\n",
      "Minibatch: 15350, Loss: 0.8334, Error: 0.00\n",
      "Minibatch: 15400, Loss: 0.8333, Error: 0.00\n",
      "Minibatch: 15450, Loss: 0.8333, Error: 0.00\n",
      "Minibatch: 15500, Loss: 0.8333, Error: 0.00\n",
      "Minibatch: 15550, Loss: 0.8333, Error: 0.00\n",
      "Minibatch: 15600, Loss: 0.8333, Error: 0.00\n",
      "Minibatch: 15650, Loss: 0.8332, Error: 0.00\n",
      "Minibatch: 15700, Loss: 0.8332, Error: 0.00\n",
      "Minibatch: 15750, Loss: 0.8332, Error: 0.00\n",
      "Minibatch: 15800, Loss: 0.8332, Error: 0.00\n",
      "Minibatch: 15850, Loss: 0.8332, Error: 0.00\n",
      "Minibatch: 15900, Loss: 0.8331, Error: 0.00\n",
      "Minibatch: 15950, Loss: 0.8331, Error: 0.00\n",
      "Minibatch: 16000, Loss: 0.8331, Error: 0.00\n",
      "Minibatch: 16050, Loss: 0.8331, Error: 0.00\n",
      "Minibatch: 16100, Loss: 0.8331, Error: 0.00\n",
      "Minibatch: 16150, Loss: 0.8331, Error: 0.00\n",
      "Minibatch: 16200, Loss: 0.8330, Error: 0.00\n",
      "Minibatch: 16250, Loss: 0.8330, Error: 0.00\n",
      "Minibatch: 16300, Loss: 0.8330, Error: 0.00\n",
      "Minibatch: 16350, Loss: 0.8330, Error: 0.00\n",
      "Minibatch: 16400, Loss: 0.8330, Error: 0.00\n",
      "Minibatch: 16450, Loss: 0.8330, Error: 0.00\n",
      "Minibatch: 16500, Loss: 0.8330, Error: 0.00\n",
      "Minibatch: 16550, Loss: 0.8329, Error: 0.00\n",
      "Minibatch: 16600, Loss: 0.8329, Error: 0.00\n",
      "Minibatch: 16650, Loss: 0.8329, Error: 0.00\n",
      "Minibatch: 16700, Loss: 0.8329, Error: 0.00\n",
      "Minibatch: 16750, Loss: 0.8329, Error: 0.00\n",
      "Minibatch: 16800, Loss: 0.8329, Error: 0.00\n",
      "Minibatch: 16850, Loss: 0.8329, Error: 0.00\n",
      "Minibatch: 16900, Loss: 0.8328, Error: 0.00\n",
      "Minibatch: 16950, Loss: 0.8328, Error: 0.00\n",
      "Minibatch: 17000, Loss: 0.8328, Error: 0.00\n",
      "Minibatch: 17050, Loss: 0.8328, Error: 0.00\n",
      "Minibatch: 17100, Loss: 0.8328, Error: 0.00\n",
      "Minibatch: 17150, Loss: 0.8328, Error: 0.00\n",
      "Minibatch: 17200, Loss: 0.8328, Error: 0.00\n",
      "Minibatch: 17250, Loss: 0.8328, Error: 0.00\n",
      "Minibatch: 17300, Loss: 0.8327, Error: 0.00\n",
      "Minibatch: 17350, Loss: 0.8327, Error: 0.00\n",
      "Minibatch: 17400, Loss: 0.8327, Error: 0.00\n",
      "Minibatch: 17450, Loss: 0.8327, Error: 0.00\n",
      "Minibatch: 17500, Loss: 0.8327, Error: 0.00\n",
      "Minibatch: 17550, Loss: 0.8327, Error: 0.00\n",
      "Minibatch: 17600, Loss: 0.8327, Error: 0.00\n",
      "Minibatch: 17650, Loss: 0.8327, Error: 0.00\n",
      "Minibatch: 17700, Loss: 0.8327, Error: 0.00\n",
      "Minibatch: 17750, Loss: 0.8326, Error: 0.00\n",
      "Minibatch: 17800, Loss: 0.8326, Error: 0.00\n",
      "Minibatch: 17850, Loss: 0.8326, Error: 0.00\n",
      "Minibatch: 17900, Loss: 0.8326, Error: 0.00\n",
      "Minibatch: 17950, Loss: 0.8326, Error: 0.00\n",
      "Minibatch: 18000, Loss: 0.8326, Error: 0.00\n",
      "Minibatch: 18050, Loss: 0.8326, Error: 0.00\n",
      "Minibatch: 18100, Loss: 0.8326, Error: 0.00\n",
      "Minibatch: 18150, Loss: 0.8326, Error: 0.00\n",
      "Minibatch: 18200, Loss: 0.8326, Error: 0.00\n",
      "Minibatch: 18250, Loss: 0.8326, Error: 0.00\n",
      "Minibatch: 18300, Loss: 0.8325, Error: 0.00\n",
      "Minibatch: 18350, Loss: 0.8325, Error: 0.00\n",
      "Minibatch: 18400, Loss: 0.8325, Error: 0.00\n",
      "Minibatch: 18450, Loss: 0.8325, Error: 0.00\n",
      "Minibatch: 18500, Loss: 0.8325, Error: 0.00\n",
      "Minibatch: 18550, Loss: 0.8325, Error: 0.00\n",
      "Minibatch: 18600, Loss: 0.8325, Error: 0.00\n",
      "Minibatch: 18650, Loss: 0.8325, Error: 0.00\n",
      "Minibatch: 18700, Loss: 0.8325, Error: 0.00\n",
      "Minibatch: 18750, Loss: 0.8325, Error: 0.00\n",
      "Minibatch: 18800, Loss: 0.8325, Error: 0.00\n",
      "Minibatch: 18850, Loss: 0.8325, Error: 0.00\n",
      "Minibatch: 18900, Loss: 0.8325, Error: 0.00\n",
      "Minibatch: 18950, Loss: 0.8325, Error: 0.00\n",
      "Minibatch: 19000, Loss: 0.8324, Error: 0.00\n",
      "Minibatch: 19050, Loss: 0.8324, Error: 0.00\n",
      "Minibatch: 19100, Loss: 0.8324, Error: 0.00\n"
     ]
    },
    {
     "name": "stdout",
     "output_type": "stream",
     "text": [
      "Minibatch: 19150, Loss: 0.8324, Error: 0.00\n",
      "Minibatch: 19200, Loss: 0.8324, Error: 0.00\n",
      "Minibatch: 19250, Loss: 0.8324, Error: 0.00\n",
      "Minibatch: 19300, Loss: 0.8324, Error: 0.00\n",
      "Minibatch: 19350, Loss: 0.8324, Error: 0.00\n",
      "Minibatch: 19400, Loss: 0.8324, Error: 0.00\n",
      "Minibatch: 19450, Loss: 0.8324, Error: 0.00\n",
      "Minibatch: 19500, Loss: 0.8324, Error: 0.00\n",
      "Minibatch: 19550, Loss: 0.8324, Error: 0.00\n",
      "Minibatch: 19600, Loss: 0.8324, Error: 0.00\n",
      "Minibatch: 19650, Loss: 0.8324, Error: 0.00\n",
      "Minibatch: 19700, Loss: 0.8324, Error: 0.00\n",
      "Minibatch: 19750, Loss: 0.8324, Error: 0.00\n",
      "Minibatch: 19800, Loss: 0.8324, Error: 0.00\n",
      "Minibatch: 19850, Loss: 0.8323, Error: 0.00\n",
      "Minibatch: 19900, Loss: 0.8323, Error: 0.00\n",
      "Minibatch: 19950, Loss: 0.8323, Error: 0.00\n",
      "Minibatch: 20000, Loss: 0.8323, Error: 0.00\n",
      "Minibatch: 20050, Loss: 0.8323, Error: 0.00\n",
      "Minibatch: 20100, Loss: 0.8323, Error: 0.00\n",
      "Minibatch: 20150, Loss: 0.8323, Error: 0.00\n",
      "Minibatch: 20200, Loss: 0.8323, Error: 0.00\n",
      "Minibatch: 20250, Loss: 0.8323, Error: 0.00\n",
      "Minibatch: 20300, Loss: 0.8323, Error: 0.00\n",
      "Minibatch: 20350, Loss: 0.8323, Error: 0.00\n",
      "Minibatch: 20400, Loss: 0.8323, Error: 0.00\n",
      "Minibatch: 20450, Loss: 0.8323, Error: 0.00\n",
      "Minibatch: 20500, Loss: 0.8323, Error: 0.00\n",
      "Minibatch: 20550, Loss: 0.8323, Error: 0.00\n",
      "Minibatch: 20600, Loss: 0.8323, Error: 0.00\n",
      "Minibatch: 20650, Loss: 0.8323, Error: 0.00\n",
      "Minibatch: 20700, Loss: 0.8323, Error: 0.00\n",
      "Minibatch: 20750, Loss: 0.8323, Error: 0.00\n",
      "Minibatch: 20800, Loss: 0.8323, Error: 0.00\n",
      "Minibatch: 20850, Loss: 0.8323, Error: 0.00\n",
      "Minibatch: 20900, Loss: 0.8323, Error: 0.00\n",
      "Minibatch: 20950, Loss: 0.8323, Error: 0.00\n",
      "Minibatch: 21000, Loss: 0.8322, Error: 0.00\n",
      "Minibatch: 21050, Loss: 0.8322, Error: 0.00\n",
      "Minibatch: 21100, Loss: 0.8322, Error: 0.00\n",
      "Minibatch: 21150, Loss: 0.8322, Error: 0.00\n",
      "Minibatch: 21200, Loss: 0.8322, Error: 0.00\n",
      "Minibatch: 21250, Loss: 0.8322, Error: 0.00\n",
      "Minibatch: 21300, Loss: 0.8322, Error: 0.00\n",
      "Minibatch: 21350, Loss: 0.8322, Error: 0.00\n",
      "Minibatch: 21400, Loss: 0.8322, Error: 0.00\n",
      "Minibatch: 21450, Loss: 0.8322, Error: 0.00\n",
      "Minibatch: 21500, Loss: 0.8322, Error: 0.00\n",
      "Minibatch: 21550, Loss: 0.8322, Error: 0.00\n",
      "Minibatch: 21600, Loss: 0.8322, Error: 0.00\n",
      "Minibatch: 21650, Loss: 0.8322, Error: 0.00\n",
      "Minibatch: 21700, Loss: 0.8322, Error: 0.00\n",
      "Minibatch: 21750, Loss: 0.8322, Error: 0.00\n",
      "Minibatch: 21800, Loss: 0.8322, Error: 0.00\n",
      "Minibatch: 21850, Loss: 0.8322, Error: 0.00\n",
      "Minibatch: 21900, Loss: 0.8322, Error: 0.00\n",
      "Minibatch: 21950, Loss: 0.8322, Error: 0.00\n",
      "Minibatch: 22000, Loss: 0.8322, Error: 0.00\n",
      "Minibatch: 22050, Loss: 0.8322, Error: 0.00\n",
      "Minibatch: 22100, Loss: 0.8322, Error: 0.00\n",
      "Minibatch: 22150, Loss: 0.8322, Error: 0.00\n",
      "Minibatch: 22200, Loss: 0.8322, Error: 0.00\n",
      "Minibatch: 22250, Loss: 0.8322, Error: 0.00\n",
      "Minibatch: 22300, Loss: 0.8322, Error: 0.00\n",
      "Minibatch: 22350, Loss: 0.8322, Error: 0.00\n",
      "Minibatch: 22400, Loss: 0.8322, Error: 0.00\n",
      "Minibatch: 22450, Loss: 0.8322, Error: 0.00\n",
      "Minibatch: 22500, Loss: 0.8322, Error: 0.00\n",
      "Minibatch: 22550, Loss: 0.8322, Error: 0.00\n",
      "Minibatch: 22600, Loss: 0.8322, Error: 0.00\n",
      "Minibatch: 22650, Loss: 0.8322, Error: 0.00\n",
      "Minibatch: 22700, Loss: 0.8322, Error: 0.00\n",
      "Minibatch: 22750, Loss: 0.8322, Error: 0.00\n",
      "Minibatch: 22800, Loss: 0.8322, Error: 0.00\n",
      "Minibatch: 22850, Loss: 0.8322, Error: 0.00\n",
      "Minibatch: 22900, Loss: 0.8322, Error: 0.00\n",
      "Minibatch: 22950, Loss: 0.8321, Error: 0.00\n",
      "Minibatch: 23000, Loss: 0.8321, Error: 0.00\n",
      "Minibatch: 23050, Loss: 0.8321, Error: 0.00\n",
      "Minibatch: 23100, Loss: 0.8321, Error: 0.00\n",
      "Minibatch: 23150, Loss: 0.8321, Error: 0.00\n",
      "Minibatch: 23200, Loss: 0.8321, Error: 0.00\n",
      "Minibatch: 23250, Loss: 0.8321, Error: 0.00\n",
      "Minibatch: 23300, Loss: 0.8321, Error: 0.00\n",
      "Minibatch: 23350, Loss: 0.8321, Error: 0.00\n",
      "Minibatch: 23400, Loss: 0.8321, Error: 0.00\n",
      "Minibatch: 23450, Loss: 0.8321, Error: 0.00\n",
      "Minibatch: 23500, Loss: 0.8321, Error: 0.00\n",
      "Minibatch: 23550, Loss: 0.8321, Error: 0.00\n",
      "Minibatch: 23600, Loss: 0.8321, Error: 0.00\n",
      "Minibatch: 23650, Loss: 0.8321, Error: 0.00\n",
      "Minibatch: 23700, Loss: 0.8321, Error: 0.00\n",
      "Minibatch: 23750, Loss: 0.8321, Error: 0.00\n",
      "Minibatch: 23800, Loss: 0.8321, Error: 0.00\n",
      "Minibatch: 23850, Loss: 0.8321, Error: 0.00\n",
      "Minibatch: 23900, Loss: 0.8321, Error: 0.00\n",
      "Minibatch: 23950, Loss: 0.8321, Error: 0.00\n",
      "Minibatch: 24000, Loss: 0.8321, Error: 0.00\n",
      "Minibatch: 24050, Loss: 0.8321, Error: 0.00\n",
      "Minibatch: 24100, Loss: 0.8321, Error: 0.00\n",
      "Minibatch: 24150, Loss: 0.8321, Error: 0.00\n",
      "Minibatch: 24200, Loss: 0.8321, Error: 0.00\n",
      "Minibatch: 24250, Loss: 0.8321, Error: 0.00\n",
      "Minibatch: 24300, Loss: 0.8321, Error: 0.00\n",
      "Minibatch: 24350, Loss: 0.8321, Error: 0.00\n",
      "Minibatch: 24400, Loss: 0.8321, Error: 0.00\n",
      "Minibatch: 24450, Loss: 0.8321, Error: 0.00\n",
      "Minibatch: 24500, Loss: 0.8321, Error: 0.00\n",
      "Minibatch: 24550, Loss: 0.8321, Error: 0.00\n",
      "Minibatch: 24600, Loss: 0.8321, Error: 0.00\n",
      "Minibatch: 24650, Loss: 0.8321, Error: 0.00\n",
      "Minibatch: 24700, Loss: 0.8321, Error: 0.00\n",
      "Minibatch: 24750, Loss: 0.8321, Error: 0.00\n",
      "Minibatch: 24800, Loss: 0.8321, Error: 0.00\n",
      "Minibatch: 24850, Loss: 0.8321, Error: 0.00\n",
      "Minibatch: 24900, Loss: 0.8321, Error: 0.00\n",
      "Minibatch: 24950, Loss: 0.8321, Error: 0.00\n",
      "Minibatch: 25000, Loss: 0.8321, Error: 0.00\n",
      "Minibatch: 25050, Loss: 0.8321, Error: 0.00\n",
      "Minibatch: 25100, Loss: 0.8321, Error: 0.00\n",
      "Minibatch: 25150, Loss: 0.8321, Error: 0.00\n",
      "Minibatch: 25200, Loss: 0.8321, Error: 0.00\n",
      "Minibatch: 25250, Loss: 0.8321, Error: 0.00\n",
      "Minibatch: 25300, Loss: 0.8321, Error: 0.00\n",
      "Minibatch: 25350, Loss: 0.8321, Error: 0.00\n",
      "Minibatch: 25400, Loss: 0.8321, Error: 0.00\n",
      "Minibatch: 25450, Loss: 0.8321, Error: 0.00\n",
      "Minibatch: 25500, Loss: 0.8321, Error: 0.00\n",
      "Minibatch: 25550, Loss: 0.8321, Error: 0.00\n",
      "Minibatch: 25600, Loss: 0.8321, Error: 0.00\n",
      "Minibatch: 25650, Loss: 0.8321, Error: 0.00\n",
      "Minibatch: 25700, Loss: 0.8321, Error: 0.00\n",
      "Minibatch: 25750, Loss: 0.8321, Error: 0.00\n",
      "Minibatch: 25800, Loss: 0.8321, Error: 0.00\n",
      "Minibatch: 25850, Loss: 0.8321, Error: 0.00\n",
      "Minibatch: 25900, Loss: 0.8321, Error: 0.00\n",
      "Minibatch: 25950, Loss: 0.8321, Error: 0.00\n",
      "Minibatch: 26000, Loss: 0.8321, Error: 0.00\n",
      "Minibatch: 26050, Loss: 0.8321, Error: 0.00\n",
      "Minibatch: 26100, Loss: 0.8321, Error: 0.00\n",
      "Minibatch: 26150, Loss: 0.8321, Error: 0.00\n",
      "Minibatch: 26200, Loss: 0.8321, Error: 0.00\n",
      "Minibatch: 26250, Loss: 0.8321, Error: 0.00\n",
      "Minibatch: 26300, Loss: 0.8321, Error: 0.00\n",
      "Minibatch: 26350, Loss: 0.8321, Error: 0.00\n",
      "Minibatch: 26400, Loss: 0.8321, Error: 0.00\n",
      "Minibatch: 26450, Loss: 0.8321, Error: 0.00\n",
      "Minibatch: 26500, Loss: 0.8321, Error: 0.00\n",
      "Minibatch: 26550, Loss: 0.8321, Error: 0.00\n",
      "Minibatch: 26600, Loss: 0.8321, Error: 0.00\n",
      "Minibatch: 26650, Loss: 0.8321, Error: 0.00\n",
      "Minibatch: 26700, Loss: 0.8321, Error: 0.00\n",
      "Minibatch: 26750, Loss: 0.8321, Error: 0.00\n",
      "Minibatch: 26800, Loss: 0.8321, Error: 0.00\n",
      "Minibatch: 26850, Loss: 0.8321, Error: 0.00\n",
      "Minibatch: 26900, Loss: 0.8321, Error: 0.00\n",
      "Minibatch: 26950, Loss: 0.8321, Error: 0.00\n",
      "Minibatch: 27000, Loss: 0.8321, Error: 0.00\n",
      "Minibatch: 27050, Loss: 0.8321, Error: 0.00\n",
      "Minibatch: 27100, Loss: 0.8321, Error: 0.00\n",
      "Minibatch: 27150, Loss: 0.8321, Error: 0.00\n",
      "Minibatch: 27200, Loss: 0.8321, Error: 0.00\n",
      "Minibatch: 27250, Loss: 0.8321, Error: 0.00\n",
      "Minibatch: 27300, Loss: 0.8321, Error: 0.00\n",
      "Minibatch: 27350, Loss: 0.8321, Error: 0.00\n",
      "Minibatch: 27400, Loss: 0.8321, Error: 0.00\n",
      "Minibatch: 27450, Loss: 0.8321, Error: 0.00\n",
      "Minibatch: 27500, Loss: 0.8321, Error: 0.00\n",
      "Minibatch: 27550, Loss: 0.8321, Error: 0.00\n",
      "Minibatch: 27600, Loss: 0.8321, Error: 0.00\n",
      "Minibatch: 27650, Loss: 0.8321, Error: 0.00\n",
      "Minibatch: 27700, Loss: 0.8321, Error: 0.00\n",
      "Minibatch: 27750, Loss: 0.8321, Error: 0.00\n",
      "Minibatch: 27800, Loss: 0.8321, Error: 0.00\n",
      "Minibatch: 27850, Loss: 0.8321, Error: 0.00\n",
      "Minibatch: 27900, Loss: 0.8321, Error: 0.00\n",
      "Minibatch: 27950, Loss: 0.8321, Error: 0.00\n",
      "Minibatch: 28000, Loss: 0.8321, Error: 0.00\n",
      "Minibatch: 28050, Loss: 0.8321, Error: 0.00\n",
      "Minibatch: 28100, Loss: 0.8320, Error: 0.00\n",
      "Minibatch: 28150, Loss: 0.8320, Error: 0.00\n",
      "Minibatch: 28200, Loss: 0.8320, Error: 0.00\n",
      "Minibatch: 28250, Loss: 0.8320, Error: 0.00\n",
      "Minibatch: 28300, Loss: 0.8320, Error: 0.00\n",
      "Minibatch: 28350, Loss: 0.8320, Error: 0.00\n",
      "Minibatch: 28400, Loss: 0.8320, Error: 0.00\n",
      "Minibatch: 28450, Loss: 0.8320, Error: 0.00\n"
     ]
    },
    {
     "name": "stdout",
     "output_type": "stream",
     "text": [
      "Minibatch: 28500, Loss: 0.8320, Error: 0.00\n",
      "Minibatch: 28550, Loss: 0.8320, Error: 0.00\n",
      "Minibatch: 28600, Loss: 0.8320, Error: 0.00\n",
      "Minibatch: 28650, Loss: 0.8320, Error: 0.00\n",
      "Minibatch: 28700, Loss: 0.8320, Error: 0.00\n",
      "Minibatch: 28750, Loss: 0.8320, Error: 0.00\n",
      "Minibatch: 28800, Loss: 0.8320, Error: 0.00\n",
      "Minibatch: 28850, Loss: 0.8320, Error: 0.00\n",
      "Minibatch: 28900, Loss: 0.8320, Error: 0.00\n",
      "Minibatch: 28950, Loss: 0.8320, Error: 0.00\n",
      "Minibatch: 29000, Loss: 0.8320, Error: 0.00\n",
      "Minibatch: 29050, Loss: 0.8320, Error: 0.00\n",
      "Minibatch: 29100, Loss: 0.8320, Error: 0.00\n",
      "Minibatch: 29150, Loss: 0.8320, Error: 0.00\n",
      "Minibatch: 29200, Loss: 0.8320, Error: 0.00\n",
      "Minibatch: 29250, Loss: 0.8320, Error: 0.00\n",
      "Minibatch: 29300, Loss: 0.8320, Error: 0.00\n",
      "Minibatch: 29350, Loss: 0.8320, Error: 0.00\n",
      "Minibatch: 29400, Loss: 0.8320, Error: 0.00\n",
      "Minibatch: 29450, Loss: 0.8320, Error: 0.00\n",
      "Minibatch: 29500, Loss: 0.8320, Error: 0.00\n",
      "Minibatch: 29550, Loss: 0.8320, Error: 0.00\n",
      "Minibatch: 29600, Loss: 0.8320, Error: 0.00\n",
      "Minibatch: 29650, Loss: 0.8320, Error: 0.00\n",
      "Minibatch: 29700, Loss: 0.8320, Error: 0.00\n",
      "Minibatch: 29750, Loss: 0.8320, Error: 0.00\n",
      "Minibatch: 29800, Loss: 0.8320, Error: 0.00\n",
      "Minibatch: 29850, Loss: 0.8320, Error: 0.00\n",
      "Minibatch: 29900, Loss: 0.8320, Error: 0.00\n",
      "Minibatch: 29950, Loss: 0.8320, Error: 0.00\n"
     ]
    }
   ],
   "source": [
    "# Run the trainer and perform model training\n",
    "training_progress_output_freq = 50\n",
    "\n",
    "plotdata = {\"batchsize\":[], \"loss\":[], \"error\":[]}\n",
    "\n",
    "s = np.arange(features.shape[0])\n",
    "np.random.shuffle(s)\n",
    "labels2 = labels[s]\n",
    "features2 = features[s]\n",
    "\n",
    "repeat = 0\n",
    "for i in range(0, 30000):#num_minibatches_to_train):\n",
    "    #features, labels = generate_random_data_sample(minibatch_size, input_dim, num_output_classes)\n",
    "    \n",
    "    \"\"\"\n",
    "    # Specify input variables mapping in the model to actual minibatch data to be trained with\n",
    "    start = (i-repeat*int(sample_size/minibatch_size))*minibatch_size\n",
    "    if start > sample_size:\n",
    "        repeat += 1\n",
    "        start = (i-repeat*int(sample_size/minibatch_size))*minibatch_size\n",
    "    end = min(start + minibatch_size - 1, sample_size)\n",
    "    #print(start, end)\n",
    "    \n",
    "    trainer.train_minibatch({input : features2[start:end][:], label : labels2[start:end][:]})\n",
    "    batchsize, loss, error = print_training_progress(trainer, i, \n",
    "                                                     training_progress_output_freq, verbose=1)\n",
    "    \"\"\"\n",
    "    trainer.train_minibatch({input : features2, label : labels2})\n",
    "    batchsize, loss, error = print_training_progress(trainer, i, \n",
    "                                                     training_progress_output_freq, verbose=1)\n",
    "    \n",
    "    if not (loss == \"NA\" or error ==\"NA\"):\n",
    "        plotdata[\"batchsize\"].append(batchsize)\n",
    "        plotdata[\"loss\"].append(loss)\n",
    "        plotdata[\"error\"].append(error)\n",
    "        "
   ]
  },
  {
   "cell_type": "code",
   "execution_count": 26,
   "metadata": {},
   "outputs": [
    {
     "data": {
      "image/png": "[encoded data removed]",
      "text/plain": [
       "<matplotlib.figure.Figure at 0x21e9a559b70>"
      ]
     },
     "metadata": {},
     "output_type": "display_data"
    },
    {
     "data": {
      "image/png": "[encoded data removed]",
      "text/plain": [
       "<matplotlib.figure.Figure at 0x21e9a5cbfd0>"
      ]
     },
     "metadata": {},
     "output_type": "display_data"
    }
   ],
   "source": [
    "# Compute the moving average loss to smooth out the noise in SGD\n",
    "plotdata[\"avgloss\"] = moving_average(plotdata[\"loss\"])\n",
    "plotdata[\"avgerror\"] = moving_average(plotdata[\"error\"])\n",
    "\n",
    "# Plot the training loss and the training error\n",
    "import matplotlib.pyplot as plt\n",
    "\n",
    "plt.figure(1)\n",
    "plt.subplot(211)\n",
    "plt.plot(plotdata[\"batchsize\"], plotdata[\"avgloss\"], 'b--')\n",
    "plt.xlabel('Minibatch number')\n",
    "plt.ylabel('Loss')\n",
    "plt.title('Minibatch run vs. Training loss')\n",
    "\n",
    "plt.show()\n",
    "\n",
    "plt.subplot(212)\n",
    "plt.plot(plotdata[\"batchsize\"], plotdata[\"avgerror\"], 'r--')\n",
    "plt.xlabel('Minibatch number')\n",
    "plt.ylabel('Label Prediction Error')\n",
    "plt.title('Minibatch run vs. Label Prediction Error')\n",
    "plt.show()"
   ]
  },
  {
   "cell_type": "markdown",
   "metadata": {},
   "source": [
    "## Evaluation / Testing \n",
    "\n",
    "Now that we have trained the network. Let us evaluate the trained network on data that hasn't been used for training. This is called **testing**. Let us create some new data and evaluate the average error and loss on this set. This is done using `trainer.test_minibatch`. Note the error on this previously unseen data is comparable to training error. This is a **key** check. Should the error be larger than the training error by a large margin, it indicates that the trained model will not perform well on data that it has not seen during training. This is known as [overfitting][]. There are several ways to address overfitting that is beyond the scope of this tutorial but the Cognitive Toolkit provides the necessary components to address overfitting.\n",
    "\n",
    "Note: We are testing on a single minibatch for illustrative purposes. In practice one runs several minibatches of test data and reports the average. \n",
    "\n",
    "**Question** Why is this suggested? Try plotting the test error over several set of generated data sample and plot using plotting functions used for training. Do you see a pattern?\n",
    "\n",
    "[overfitting]: https://en.wikipedia.org/wiki/Overfitting\n"
   ]
  },
  {
   "cell_type": "code",
   "execution_count": 27,
   "metadata": {},
   "outputs": [
    {
     "name": "stdout",
     "output_type": "stream",
     "text": [
      "Error rate: 0.005911330049261084\n"
     ]
    }
   ],
   "source": [
    "# Read CSV DB file for the test\n",
    "features_test, labels_test = GetDataFromCSV(input_dim, num_output_classes, 'CIExyY2.csv')[0:2]    \n",
    "\n",
    "features_test -= mean_sample\n",
    "features_test /= std_sample\n",
    "\n",
    "print(\"Error rate: \"+str( trainer.test_minibatch( {input : features_test, label : labels_test} ) ) )\n",
    "\n",
    "# Save the network model\n",
    "trainer.model.save_model(\"teeth.nn\")"
   ]
  },
  {
   "cell_type": "markdown",
   "metadata": {},
   "source": [
    "### Checking prediction / evaluation \n",
    "For evaluation, we map the output of the network between 0-1 and convert them into probabilities for the two classes. This suggests the chances of each observation being malignant and benign. We use a softmax function to get the probabilities of each of the class. "
   ]
  },
  {
   "cell_type": "code",
   "execution_count": 56,
   "metadata": {},
   "outputs": [
    {
     "name": "stdout",
     "output_type": "stream",
     "text": [
      "[array([[  4.74039853e-01,   2.67618835e-01,   1.07413679e-01, ...,\n",
      "          1.81043246e-23,   1.76665226e-27,   9.46991155e-27],\n",
      "       [  4.69487727e-01,   2.89982677e-01,   1.00990161e-01, ...,\n",
      "          1.20574415e-23,   1.15198392e-27,   6.18522494e-27],\n",
      "       [  4.61529136e-01,   3.18095863e-01,   8.63277987e-02, ...,\n",
      "          1.00572476e-23,   8.99414003e-28,   4.34245588e-27],\n",
      "       ..., \n",
      "       [  3.92894660e-34,   4.47539814e-30,   9.43514423e-25, ...,\n",
      "          3.35153527e-09,   7.68597843e-03,   8.49527240e-01],\n",
      "       [  1.35845187e-33,   2.03232674e-29,   1.92287074e-24, ...,\n",
      "          6.95299551e-09,   1.18763754e-02,   8.78850639e-01],\n",
      "       [  3.29354461e-34,   3.69653928e-30,   8.50139522e-25, ...,\n",
      "          3.02567749e-09,   7.28105148e-03,   8.47462356e-01]], dtype=float32)]\n",
      "(1015, 29)\n"
     ]
    }
   ],
   "source": [
    "out = softmax(z)\n",
    "result = out.eval({input : features_test})\n",
    "print(result)\n",
    "print(result[0][:].shape)\n",
    "#z.save_model(\"test2.nn\")\n",
    "#labels_test[0][:].shape\n",
    "\n",
    "#np.asarray(result)\n",
    "\n",
    "#print(type(result.shape))"
   ]
  },
  {
   "cell_type": "markdown",
   "metadata": {},
   "source": [
    "Let us compare the ground-truth label with the predictions. They should be in agreement.\n",
    "\n",
    "**Question:** \n",
    "- How many predictions were mislabeled? Can you change the code below to identify which observations were misclassified? "
   ]
  },
  {
   "cell_type": "code",
   "execution_count": 58,
   "metadata": {},
   "outputs": [
    {
     "ename": "TypeError",
     "evalue": "list indices must be integers or slices, not tuple",
     "output_type": "error",
     "traceback": [
      "\u001b[1;31m---------------------------------------------------------------------------\u001b[0m",
      "\u001b[1;31mTypeError\u001b[0m                                 Traceback (most recent call last)",
      "\u001b[1;32m<ipython-input-58-81610605833e>\u001b[0m in \u001b[0;36m<module>\u001b[1;34m()\u001b[0m\n\u001b[0;32m      3\u001b[0m \u001b[1;33m\u001b[0m\u001b[0m\n\u001b[0;32m      4\u001b[0m \u001b[1;32mfor\u001b[0m \u001b[0mi\u001b[0m \u001b[1;32min\u001b[0m \u001b[0mrange\u001b[0m\u001b[1;33m(\u001b[0m\u001b[0mresult\u001b[0m\u001b[1;33m[\u001b[0m\u001b[1;36m0\u001b[0m\u001b[1;33m]\u001b[0m\u001b[1;33m[\u001b[0m\u001b[1;33m:\u001b[0m\u001b[1;33m]\u001b[0m\u001b[1;33m.\u001b[0m\u001b[0mshape\u001b[0m\u001b[1;33m[\u001b[0m\u001b[1;36m0\u001b[0m\u001b[1;33m]\u001b[0m\u001b[1;33m)\u001b[0m\u001b[1;33m:\u001b[0m\u001b[1;33m\u001b[0m\u001b[0m\n\u001b[1;32m----> 5\u001b[1;33m     \u001b[1;32mif\u001b[0m \u001b[1;32mnot\u001b[0m \u001b[0mnp\u001b[0m\u001b[1;33m.\u001b[0m\u001b[0margmax\u001b[0m\u001b[1;33m(\u001b[0m\u001b[0mlabels_test\u001b[0m\u001b[1;33m[\u001b[0m\u001b[0mi\u001b[0m\u001b[1;33m]\u001b[0m\u001b[1;33m[\u001b[0m\u001b[1;33m:\u001b[0m\u001b[1;33m]\u001b[0m\u001b[1;33m)\u001b[0m \u001b[1;33m==\u001b[0m \u001b[0mnp\u001b[0m\u001b[1;33m.\u001b[0m\u001b[0margmax\u001b[0m\u001b[1;33m(\u001b[0m\u001b[0mresult\u001b[0m\u001b[1;33m[\u001b[0m\u001b[0mi\u001b[0m\u001b[1;33m,\u001b[0m\u001b[1;33m:\u001b[0m\u001b[1;33m,\u001b[0m\u001b[1;33m:\u001b[0m\u001b[1;33m]\u001b[0m\u001b[1;33m)\u001b[0m\u001b[1;33m:\u001b[0m\u001b[1;33m\u001b[0m\u001b[0m\n\u001b[0m\u001b[0;32m      6\u001b[0m         \u001b[0mprint\u001b[0m\u001b[1;33m(\u001b[0m\u001b[1;34m\"Label    :\"\u001b[0m\u001b[1;33m,\u001b[0m \u001b[1;33m[\u001b[0m\u001b[0mnp\u001b[0m\u001b[1;33m.\u001b[0m\u001b[0margmax\u001b[0m\u001b[1;33m(\u001b[0m\u001b[0mlabels_test\u001b[0m\u001b[1;33m[\u001b[0m\u001b[0mi\u001b[0m\u001b[1;33m]\u001b[0m\u001b[1;33m[\u001b[0m\u001b[1;33m:\u001b[0m\u001b[1;33m]\u001b[0m\u001b[1;33m)\u001b[0m\u001b[1;33m]\u001b[0m\u001b[1;33m)\u001b[0m\u001b[1;33m\u001b[0m\u001b[0m\n\u001b[0;32m      7\u001b[0m         \u001b[0mprint\u001b[0m\u001b[1;33m(\u001b[0m\u001b[1;34m\"Predicted:\"\u001b[0m\u001b[1;33m,\u001b[0m \u001b[1;33m[\u001b[0m\u001b[0mnp\u001b[0m\u001b[1;33m.\u001b[0m\u001b[0margmax\u001b[0m\u001b[1;33m(\u001b[0m\u001b[0mresult\u001b[0m\u001b[1;33m[\u001b[0m\u001b[0mi\u001b[0m\u001b[1;33m,\u001b[0m\u001b[1;33m:\u001b[0m\u001b[1;33m,\u001b[0m\u001b[1;33m:\u001b[0m\u001b[1;33m]\u001b[0m\u001b[1;33m)\u001b[0m\u001b[1;33m]\u001b[0m\u001b[1;33m)\u001b[0m\u001b[1;33m\u001b[0m\u001b[0m\n",
      "\u001b[1;31mTypeError\u001b[0m: list indices must be integers or slices, not tuple"
     ]
    }
   ],
   "source": [
    "#print(\"Label    :\", [np.argmax(label) for label in labels_test])\n",
    "#print(\"Predicted:\", [np.argmax(result[i,:,:]) for i in range(result.shape[0])])\n",
    "\n",
    "for i in range(result[0][:].shape[0]):\n",
    "    if not np.argmax(labels_test[i][:]) == np.argmax(result[i,:,:]):\n",
    "        print(\"Label    :\", [np.argmax(labels_test[i][:])])     \n",
    "        print(\"Predicted:\", [np.argmax(result[i,:,:])])    "
   ]
  },
  {
   "cell_type": "markdown",
   "metadata": {},
   "source": [
    "### Visualization\n",
    "It is desirable to visualize the results. In this example, the data is conveniently in two dimensions and can be plotted. For data with higher dimensions, visualization can be challenging. There are advanced dimensionality reduction techniques that allow for such visualizations [t-sne][].\n",
    "\n",
    "[t-sne]: https://en.wikipedia.org/wiki/T-distributed_stochastic_neighbor_embedding"
   ]
  },
  {
   "cell_type": "code",
   "execution_count": 45,
   "metadata": {},
   "outputs": [
    {
     "name": "stdout",
     "output_type": "stream",
     "text": [
      "[-7.34246492 -4.5097537  -3.34266305 -2.58840609  0.39179981  2.10951781\n",
      "  3.80546689 -1.88897252  2.91731143  1.30935621  2.30485964  3.97201872\n",
      "  3.2690022   2.56388235  0.28408572  4.60685587  0.66103113  4.01390219\n",
      "  3.91621399  0.71919352 -2.38144469 -0.40894869  1.51316762 -2.99586344\n",
      "  2.61212587  0.65868145 -3.43893933 -5.44766808 -7.28532219]\n"
     ]
    },
    {
     "data": {
      "image/png": "[encoded data removed]",
      "text/plain": [
       "<matplotlib.figure.Figure at 0x21e9b0e1f98>"
      ]
     },
     "metadata": {},
     "output_type": "display_data"
    }
   ],
   "source": [
    "# Model parameters\n",
    "print(mydict['b'].value)\n",
    "\n",
    "bias_vector   = mydict['b'].value\n",
    "weight_matrix = mydict['w'].value\n",
    "\n",
    "# Plot the data \n",
    "import matplotlib.pyplot as plt\n",
    "\n",
    "plt.figure(figsize=(5,5))\n",
    "\n",
    "# For the given classes \n",
    "colors = np.nonzero(labels)[1]\n",
    "coler_map=plt.get_cmap('rainbow')\n",
    "\n",
    "plt.scatter(features[:,0], features[:,1], c=colors, cmap=coler_map)\n",
    "plt.plot([-1, bias_vector[0]/weight_matrix[0][1]], \n",
    "         [ bias_vector[1]/weight_matrix[0][0], 0], c = 'g', lw = 1)\n",
    "\n",
    "\n",
    "plt.xlabel(\"x\")\n",
    "plt.ylabel(\"y\")\n",
    "plt.show()"
   ]
  },
  {
   "cell_type": "markdown",
   "metadata": {
    "collapsed": true
   },
   "source": [
    "**Exploration Suggestions** \n",
    "- Try exploring how the classifier behaves with different data distributions - suggest changing the `minibatch_size` parameter from 25 to say 64. Why is the error increasing?\n",
    "- Try exploring different activation functions\n",
    "- Try exploring different learners \n",
    "- You can explore training a [multiclass logistic regression][] classifier.\n",
    "\n",
    "[multiclass logistic regression]: https://en.wikipedia.org/wiki/Multinomial_logistic_regression"
   ]
  },
  {
   "cell_type": "code",
   "execution_count": 46,
   "metadata": {},
   "outputs": [
    {
     "data": {
      "text/plain": [
       "array([ 0.99995458], dtype=float32)"
      ]
     },
     "execution_count": 46,
     "metadata": {},
     "output_type": "execute_result"
    }
   ],
   "source": [
    "sigmoid([10]).eval()"
   ]
  },
  {
   "cell_type": "code",
   "execution_count": 47,
   "metadata": {},
   "outputs": [
    {
     "name": "stdout",
     "output_type": "stream",
     "text": [
      "[[7 8 8]\n",
      " [1 2 3]\n",
      " [4 5 6]]\n",
      "[[3 3]\n",
      " [1 1]\n",
      " [2 2]]\n"
     ]
    }
   ],
   "source": [
    "t1 = np.array([[1 ,2, 3], [4, 5, 6], [7, 8, 8]])\n",
    "t2 = np.array([[1,1], [2,2], [3,3]])\n",
    "s = np.arange(t1.shape[0])\n",
    "np.random.shuffle(s)\n",
    "t1 = t1[s]\n",
    "t2 = t2[s]\n",
    "print(t1)\n",
    "print(t2)"
   ]
  },
  {
   "cell_type": "code",
   "execution_count": 71,
   "metadata": {},
   "outputs": [
    {
     "name": "stdout",
     "output_type": "stream",
     "text": [
      "Label:  19\n",
      "Prediction(handmade softmax):  19\n",
      "Prediction(cntk softmax) 19\n"
     ]
    }
   ],
   "source": [
    "nIndex = 700\n",
    "print(\"Label: \", np.argmax(labels_test[nIndex,:]))\n",
    "result = np.exp(features_test[nIndex,:].dot(weight_matrix) + bias_vector)\n",
    "result /= np.sum(result)\n",
    "print(\"Prediction(handmade softmax): \", np.argmax(result) )\n",
    "\n",
    "result_cntk = softmax(features_test[nIndex,:].dot(weight_matrix) + bias_vector).eval()\n",
    "print(\"Prediction(cntk softmax)\", np.argmax(result_cntk) )\n"
   ]
  },
  {
   "cell_type": "code",
   "execution_count": 72,
   "metadata": {},
   "outputs": [
    {
     "name": "stdout",
     "output_type": "stream",
     "text": [
      "[-7.34246492 -4.5097537  -3.34266305 -2.58840609  0.39179981  2.10951781\n",
      "  3.80546689 -1.88897252  2.91731143  1.30935621  2.30485964  3.97201872\n",
      "  3.2690022   2.56388235  0.28408572  4.60685587  0.66103113  4.01390219\n",
      "  3.91621399  0.71919352 -2.38144469 -0.40894869  1.51316762 -2.99586344\n",
      "  2.61212587  0.65868145 -3.43893933 -5.44766808 -7.28532219]\n",
      "[[ -5.77970362  -0.70121485  -0.33714998  -6.65695143  -5.0377717\n",
      "   -6.48750353  -2.5104897   -6.57829332   3.22876143   3.57818317\n",
      "    0.07826947   1.28557277  -6.05551577  -2.17474794  -5.85217524\n",
      "   -1.79210699   5.55766201  -0.27883244   4.71168852  -3.55988121\n",
      "    0.34916741  -4.41091633   3.73584151   5.28623056   3.48024726\n",
      "    8.74196911   1.17184174   6.99481535  10.00947094]\n",
      " [ -4.85575342  -8.22132301  -0.26935634  -4.96528482   1.16416991\n",
      "   -0.43215716   2.72241902  -7.89705133  -3.14256001   6.34351873\n",
      "   -6.74423599   2.61911225   2.25913405   8.48459435  -6.98114634\n",
      "    1.95047998   7.0977869   -4.59705257   1.26631296   4.20220232\n",
      "    8.12599564  -5.22033167   0.41407913   8.24811172  -4.80119276\n",
      "   -0.449754    -1.46548283   0.70349032   4.44137669]\n",
      " [  5.76538849   5.39738941  11.94846725   2.01793361   6.6652298\n",
      "    1.09727097   4.28094959  -2.38352323   7.07175398  10.41332436\n",
      "    1.57835352   6.0946641   -4.30113506   0.50656915  -5.87282801\n",
      "   -0.24243404   5.62140417  -2.40148687   1.45702291  -7.52928066\n",
      "   -5.09852695 -10.20279598  -4.74421406   0.9508189   -6.0160985\n",
      "   -1.63093555 -11.67812061  -8.19958878  -0.56548506]]\n",
      "mean:  [   0.35113633    0.36384395  175.62394714]\n",
      "std:  [  1.07420590e-02   1.08716786e-02   1.75011806e+01]\n",
      "(3, 29)\n"
     ]
    }
   ],
   "source": [
    "bias_vector   = mydict['b'].value\n",
    "weight_matrix = mydict['w'].value\n",
    "print(bias_vector)\n",
    "print(weight_matrix)\n",
    "\n",
    "print(\"mean: \", mean_sample) \n",
    "print(\"std: \", std_sample)\n",
    "\n",
    "print(weight_matrix.shape)"
   ]
  },
  {
   "cell_type": "code",
   "execution_count": null,
   "metadata": {
    "collapsed": true
   },
   "outputs": [],
   "source": []
  }
 ],
 "metadata": {
  "anaconda-cloud": {},
  "kernelspec": {
   "display_name": "Python 3",
   "language": "python",
   "name": "python3"
  },
  "language_info": {
   "codemirror_mode": {
    "name": "ipython",
    "version": 3
   },
   "file_extension": ".py",
   "mimetype": "text/x-python",
   "name": "python",
   "nbconvert_exporter": "python",
   "pygments_lexer": "ipython3",
   "version": "3.5.2"
  }
 },
 "nbformat": 4,
 "nbformat_minor": 1
}
